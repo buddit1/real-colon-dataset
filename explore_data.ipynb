{
 "cells": [
  {
   "cell_type": "markdown",
   "id": "55456b2a",
   "metadata": {},
   "source": [
    "# Exploring the Real-Colon Dataset\n",
    "Use this script to load a few random sample from the real-colon dataset"
   ]
  },
  {
   "cell_type": "code",
   "execution_count": null,
   "id": "344236d7",
   "metadata": {},
   "outputs": [],
   "source": [
    "# Import built-in modules\n",
    "%matplotlib inline\n",
    "import os\n",
    "import cv2\n",
    "from matplotlib import pyplot as plt\n",
    "\n",
    "# Import repo scripts\n",
    "import export_coco_format"
   ]
  },
  {
   "cell_type": "markdown",
   "id": "0cafdef1",
   "metadata": {},
   "source": [
    "## Data format\n",
    "The dataset contains the full recordings of 60 colonoscopies from 4  are organized in the following structure:\n",
    "\n",
    "- `video_info.csv`: a csv with the metadata for each patient\n",
    "- `lesion_info.csv`: a csv with the metadata for each lesion\n",
    "- `DDD_VVV_frames`: the folder with all the frames for video {VVV} from dataset {DDD}\n",
    "- `DDD_VVV_annotations`: the folder with all the annotations for video {VVV} from dataset {DDD}\n"
   ]
  },
  {
   "cell_type": "markdown",
   "id": "e3bb6d1c",
   "metadata": {},
   "source": [
    "Check how many video folders are available in the dataset folder (full dataset is composed of 60 videos)"
   ]
  },
  {
   "cell_type": "code",
   "execution_count": null,
   "id": "ae0a77e8",
   "metadata": {},
   "outputs": [],
   "source": [
    "base_dataset_path = \"./real_colon_dataset\"\n",
    "video_folders = [x for x in sorted(os.listdir(base_dataset_path)) if x.endswith(\"frames\")]\n",
    "print(f\"Found {len(video_folders)} video folders\")"
   ]
  },
  {
   "cell_type": "markdown",
   "id": "d8f0ba9b",
   "metadata": {},
   "source": [
    "Define a function to draw a green box around each lesion"
   ]
  },
  {
   "cell_type": "code",
   "execution_count": null,
   "id": "dd34f668",
   "metadata": {},
   "outputs": [],
   "source": [
    "def draw_boxes(filename, boxes):\n",
    "    img = cv2.imread(filename)\n",
    "    for box in boxes:\n",
    "        xmin = box['box_ltrb'][0]\n",
    "        ymin = box['box_ltrb'][1]\n",
    "        xmax = box['box_ltrb'][2]\n",
    "        ymax = box['box_ltrb'][3]\n",
    "        cv2.rectangle(img=img, rec=(xmin, ymin, xmax - xmin, ymax - ymin), color=(0, 255, 0), thickness=5)\n",
    "    img = cv2.cvtColor(img, cv2.COLOR_BGR2RGB)\n",
    "    return img"
   ]
  },
  {
   "cell_type": "markdown",
   "id": "032a19b0",
   "metadata": {},
   "source": [
    "For each video group (1-4) randomly pick 1 video and select 2 images to be visualize. \n",
    "To give priority to frames with at least a box, we take 20 random frames and search for images with boxes, if any those are displayed. "
   ]
  },
  {
   "cell_type": "code",
   "execution_count": null,
   "id": "817bdff7",
   "metadata": {},
   "outputs": [],
   "source": [
    "import random\n",
    "to_show = []\n",
    "pool_frames_size = 20\n",
    "frames_per_video_to_show = 2\n",
    "for dataset in range(2,5):\n",
    "    vv = random.randint(1,15)\n",
    "    c_video_id = f\"{dataset:03d}-{vv:03d}\"\n",
    "    frame_folder = os.path.join(base_dataset_path, c_video_id + \"_frames\")\n",
    "    annotation_folder = os.path.join(base_dataset_path, c_video_id + \"_annotations\")\n",
    "    c_ann = sorted(os.listdir(annotation_folder))\n",
    "    print(f\"Random selection: video {c_video_id} with {len(c_ann)} frames in folder\")\n",
    "    random.shuffle(c_ann)\n",
    "    c_to_show = []\n",
    "    for y in c_ann[:pool_frames_size]:\n",
    "        if len(to_show)== frames_per_video_to_show:\n",
    "            break\n",
    "        c_ann_data = export_coco_format.parsevocfile(os.path.join(annotation_folder, y))\n",
    "        if len(c_ann_data[\"boxes\"]) > 0:\n",
    "            c_to_show.append((frame_folder, c_ann_data))\n",
    "    if len(c_to_show)< frames_per_video_to_show:\n",
    "        for iii in range(frames_per_video_to_show-len(c_to_show)):\n",
    "            c_to_show.append((frame_folder, export_coco_format.parsevocfile(os.path.join(annotation_folder, c_ann[iii]))))\n",
    "    to_show += c_to_show\n",
    "\n",
    "# Show the images with box overlaid\n",
    "for imd in to_show:\n",
    "    image_name = os.path.join(imd[0], imd[1][\"img_name\"])\n",
    "    print(f\"Drawing boxes on image {image_name}. Exist {os.path.exists(image_name)}\")\n",
    "    ima = draw_boxes(image_name, imd[1][\"boxes\"])\n",
    "    plt.imshow(ima)\n",
    "    plt.show()"
   ]
  }
 ],
 "metadata": {
  "kernelspec": {
   "display_name": "local-venv",
   "language": "python",
   "name": "local-venv"
  },
  "language_info": {
   "codemirror_mode": {
    "name": "ipython",
    "version": 3
   },
   "file_extension": ".py",
   "mimetype": "text/x-python",
   "name": "python",
   "nbconvert_exporter": "python",
   "pygments_lexer": "ipython3",
   "version": "3.6.9"
  }
 },
 "nbformat": 4,
 "nbformat_minor": 5
}
